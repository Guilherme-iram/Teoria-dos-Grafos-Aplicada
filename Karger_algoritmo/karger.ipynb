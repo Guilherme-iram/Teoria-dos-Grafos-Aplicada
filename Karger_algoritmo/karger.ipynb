{
 "cells": [
  {
   "cell_type": "code",
   "execution_count": 72,
   "metadata": {},
   "outputs": [],
   "source": [
    "import sys\n",
    "from random import randint, seed\n",
    "from tqdm.notebook import tqdm\n",
    "from grafo import *"
   ]
  },
  {
   "cell_type": "code",
   "execution_count": 81,
   "metadata": {},
   "outputs": [],
   "source": [
    "sys.path.insert(0, \"..\")"
   ]
  },
  {
   "cell_type": "code",
   "execution_count": 73,
   "metadata": {},
   "outputs": [],
   "source": [
    "\n",
    "class Karger:\n",
    "\n",
    "    def __init__(self, graph):\n",
    "        self.graph = graph\n",
    "\n",
    "\n",
    "    def run(self):\n",
    "        nodes = [[i + 1] for i in range(len(self.graph))]\n",
    "        super_nodes = [[i + 1] for i in range(len(graph))]\n",
    "        key_node = len(nodes) \n",
    "\n",
    "        E = []\n",
    "        for i in range(len(self.graph)):\n",
    "            for j in range(i + 1, len(self.graph)):\n",
    "                if self.graph.adjacency_matrix[i][j] == 1:\n",
    "                    E.append((i + 1, j + 1))\n",
    "\n",
    "        E_ = E.copy()\n",
    "        while len(nodes) > 2:\n",
    "\n",
    "            random_edge = E_[randint(0, len(E_) - 1)]\n",
    "            key_node += 1\n",
    "\n",
    "            nodes.append([key_node])\n",
    "            nodes.remove([random_edge[0]])\n",
    "            nodes.remove([random_edge[1]])\n",
    "            \n",
    "            list_aux = super_nodes[random_edge[0] - 1].copy()\n",
    "            list_aux.extend(super_nodes[random_edge[1] - 1])\n",
    "            super_nodes.append(list_aux)\n",
    "\n",
    "\n",
    "            E_ = [edge for edge in E_ if edge != random_edge]\n",
    "\n",
    "            for i, edge in enumerate(E_):\n",
    "                if edge[0] == random_edge[0] or edge[0] == random_edge[1]:\n",
    "                    if key_node > edge[1]:\n",
    "                        E_[i] = (edge[1], key_node)\n",
    "                    else:\n",
    "                        E_[i] = (key_node, edge[1])\n",
    "\n",
    "                elif edge[1] == random_edge[0] or edge[1] == random_edge[1]:\n",
    "                    if key_node < edge[0]:\n",
    "                        E_[i] = (key_node, edge[0])\n",
    "                    else:\n",
    "                        E_[i] = (edge[0], key_node)\n",
    "            \n",
    "        group_1 = super_nodes[E_[0][0] - 1] \n",
    "        group_2 = super_nodes[E_[0][1] - 1]\n",
    "\n",
    "        cont_edges = 0\n",
    "\n",
    "        for v1 in group_1:\n",
    "            for v2 in group_2:\n",
    "                if self.graph.adjacency_matrix[v1 - 1][v2 - 1] == 1:\n",
    "                    cont_edges += 1\n",
    "\n",
    "        return cont_edges\n",
    "\n",
    "    def execute(self, n):\n",
    "        min_cut = sys.maxsize\n",
    "        for i in range(n):\n",
    "            cut = self.run()\n",
    "            if cut < min_cut:\n",
    "                min_cut = cut\n",
    "\n",
    "        return min_cut"
   ]
  },
  {
   "cell_type": "code",
   "execution_count": 78,
   "metadata": {},
   "outputs": [],
   "source": [
    "name_file = \"graph_type2_3\"\n",
    "arquivo_graph_1 = open(f\"./Instancias/in/{name_file}\", 'r').readlines()\n",
    "matrix_, list_ = read_graph(arquivo_graph_1)\n",
    "graph = Graph(matrix_, list_)"
   ]
  },
  {
   "cell_type": "code",
   "execution_count": 79,
   "metadata": {},
   "outputs": [
    {
     "data": {
      "application/vnd.jupyter.widget-view+json": {
       "model_id": "50b12f8bc071487bbaee6ede19c89f9e",
       "version_major": 2,
       "version_minor": 0
      },
      "text/plain": [
       "  0%|          | 0/50 [00:00<?, ?it/s]"
      ]
     },
     "metadata": {},
     "output_type": "display_data"
    },
    {
     "name": "stdout",
     "output_type": "stream",
     "text": [
      "min_cut:  9\n"
     ]
    }
   ],
   "source": [
    "karger = Karger(graph)\n",
    "min_cut = karger.execute(1000)\n",
    "n_exec = 50\n",
    "n_iter = 1000\n",
    "list_min_cut = [None] * n_exec\n",
    "\n",
    "for i in tqdm(range(n_exec)):\n",
    "    list_min_cut[i] = karger.execute(n_iter)\n",
    "    if list_min_cut[i] < min_cut:\n",
    "        min_cut = list_min_cut[i]\n",
    "print(\"min_cut: \", min_cut)"
   ]
  },
  {
   "cell_type": "code",
   "execution_count": 80,
   "metadata": {},
   "outputs": [
    {
     "data": {
      "image/png": "[encoded data removed]",
      "text/plain": [
       "<Figure size 640x480 with 1 Axes>"
      ]
     },
     "metadata": {},
     "output_type": "display_data"
    }
   ],
   "source": [
    "# plot line graph of min_cut\n",
    "import matplotlib.pyplot as plt\n",
    "plt.plot(list_min_cut, 'r--')\n",
    "plt.title('Cortes minimos encontrados ao longo das execucoes')\n",
    "plt.ylabel('min_cut')\n",
    "plt.xlabel('n_exec')\n",
    "plt.show()"
   ]
  },
  {
   "cell_type": "code",
   "execution_count": 77,
   "metadata": {},
   "outputs": [
    {
     "data": {
      "application/vnd.jupyter.widget-view+json": {
       "model_id": "5e75142ff65b417997e0686cb222d79f",
       "version_major": 2,
       "version_minor": 0
      },
      "text/plain": [
       "  0%|          | 0/3 [00:00<?, ?it/s]"
      ]
     },
     "metadata": {},
     "output_type": "display_data"
    },
    {
     "data": {
      "application/vnd.jupyter.widget-view+json": {
       "model_id": "662bc8f6845d41d0b28cabc9386921e8",
       "version_major": 2,
       "version_minor": 0
      },
      "text/plain": [
       "  0%|          | 0/100 [00:00<?, ?it/s]"
      ]
     },
     "metadata": {},
     "output_type": "display_data"
    },
    {
     "name": "stdout",
     "output_type": "stream",
     "text": [
      "Min cut Karger de graph_type1_1: 1\n",
      "Min cut real de graph_type1_1: 1\n",
      "\n"
     ]
    },
    {
     "data": {
      "application/vnd.jupyter.widget-view+json": {
       "model_id": "faf026d4f9ac4dae84331e70c03cd861",
       "version_major": 2,
       "version_minor": 0
      },
      "text/plain": [
       "  0%|          | 0/100 [00:00<?, ?it/s]"
      ]
     },
     "metadata": {},
     "output_type": "display_data"
    },
    {
     "name": "stdout",
     "output_type": "stream",
     "text": [
      "Min cut Karger de graph_type1_2: 2\n",
      "Min cut real de graph_type1_2: 2\n",
      "\n"
     ]
    },
    {
     "data": {
      "application/vnd.jupyter.widget-view+json": {
       "model_id": "e85f15e9c69b4e9fba9368a3fe7574f4",
       "version_major": 2,
       "version_minor": 0
      },
      "text/plain": [
       "  0%|          | 0/100 [00:00<?, ?it/s]"
      ]
     },
     "metadata": {},
     "output_type": "display_data"
    },
    {
     "name": "stdout",
     "output_type": "stream",
     "text": [
      "Min cut Karger de graph_type1_3: 2\n",
      "Min cut real de graph_type1_3: 2\n",
      "\n"
     ]
    },
    {
     "data": {
      "application/vnd.jupyter.widget-view+json": {
       "model_id": "e32282391c9c4196b67db6ae5218d39c",
       "version_major": 2,
       "version_minor": 0
      },
      "text/plain": [
       "  0%|          | 0/3 [00:00<?, ?it/s]"
      ]
     },
     "metadata": {},
     "output_type": "display_data"
    },
    {
     "data": {
      "application/vnd.jupyter.widget-view+json": {
       "model_id": "fcfcfc88a0f04b0fae9243b74de5f954",
       "version_major": 2,
       "version_minor": 0
      },
      "text/plain": [
       "  0%|          | 0/100 [00:00<?, ?it/s]"
      ]
     },
     "metadata": {},
     "output_type": "display_data"
    },
    {
     "name": "stdout",
     "output_type": "stream",
     "text": [
      "Min cut Karger de graph_type2_1: 1\n",
      "Min cut real de graph_type2_1: 1\n",
      "\n"
     ]
    },
    {
     "data": {
      "application/vnd.jupyter.widget-view+json": {
       "model_id": "9c90a3cd9b5440de97bbb2ea62774c5a",
       "version_major": 2,
       "version_minor": 0
      },
      "text/plain": [
       "  0%|          | 0/100 [00:00<?, ?it/s]"
      ]
     },
     "metadata": {},
     "output_type": "display_data"
    },
    {
     "name": "stdout",
     "output_type": "stream",
     "text": [
      "Min cut Karger de graph_type2_2: 5\n",
      "Min cut real de graph_type2_2: 5\n",
      "\n"
     ]
    },
    {
     "data": {
      "application/vnd.jupyter.widget-view+json": {
       "model_id": "42e33803afcb403ea8b33cd1ecb3e48e",
       "version_major": 2,
       "version_minor": 0
      },
      "text/plain": [
       "  0%|          | 0/100 [00:00<?, ?it/s]"
      ]
     },
     "metadata": {},
     "output_type": "display_data"
    },
    {
     "name": "stdout",
     "output_type": "stream",
     "text": [
      "Min cut Karger de graph_type2_3: 9\n",
      "Min cut real de graph_type2_3: 9\n",
      "\n"
     ]
    }
   ],
   "source": [
    "n_exec = 100\n",
    "n_iter = 1000\n",
    "\n",
    "names_file = [\"graph_type1\", \"graph_type2\"]\n",
    "\n",
    "for name_file in names_file:\n",
    "    for i in tqdm(range(1, 3 + 1)):\n",
    "\n",
    "        arquivo_graph = open(f\"./Instancias/in/{name_file}_{i}\", 'r').readlines()\n",
    "        arquivo_out = open(f\"./Instancias/out/{name_file}_{i}\", 'r').readlines()\n",
    "        matrix_, list_ = read_graph(arquivo_graph)\n",
    "        \n",
    "        graph = Graph(matrix_, list_)\n",
    "        karger = Karger(graph)\n",
    "        min_cut = karger.execute(1)\n",
    "\n",
    "        for _ in tqdm(range(n_exec)):\n",
    "            current_cut = karger.execute(n_iter)\n",
    "            if current_cut < min_cut:\n",
    "                min_cut = current_cut\n",
    "\n",
    "        print(f\"Min cut Karger de {name_file}_{i}: {min_cut}\")\n",
    "        print(f\"Min cut real de {name_file}_{i}: {arquivo_out[0]}\")\n"
   ]
  }
 ],
 "metadata": {
  "kernelspec": {
   "display_name": "base",
   "language": "python",
   "name": "python3"
  },
  "language_info": {
   "codemirror_mode": {
    "name": "ipython",
    "version": 3
   },
   "file_extension": ".py",
   "mimetype": "text/x-python",
   "name": "python",
   "nbconvert_exporter": "python",
   "pygments_lexer": "ipython3",
   "version": "3.9.13"
  },
  "orig_nbformat": 4
 },
 "nbformat": 4,
 "nbformat_minor": 2
}
