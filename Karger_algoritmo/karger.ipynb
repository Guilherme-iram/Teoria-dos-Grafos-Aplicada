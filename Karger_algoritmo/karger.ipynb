{
 "cells": [
  {
   "cell_type": "code",
   "execution_count": 30,
   "metadata": {},
   "outputs": [],
   "source": [
    "import sys\n",
    "from random import randint, seed\n",
    "# Insert the path of modules folder \n",
    "sys.path.insert(0, \"..\")\n",
    "\n",
    "from grafo import *"
   ]
  },
  {
   "cell_type": "code",
   "execution_count": 31,
   "metadata": {},
   "outputs": [],
   "source": [
    "arquivo_graph_1 = open(\"../Instancias/graph_1\", 'r').readlines()\n",
    "matrix_, list_ = read_graph(arquivo_graph_1)\n",
    "graph = Graph(matrix_, list_)"
   ]
  },
  {
   "cell_type": "code",
   "execution_count": 32,
   "metadata": {},
   "outputs": [
    {
     "name": "stdout",
     "output_type": "stream",
     "text": [
      "5 1 4 3 1 1 2 4 4 3 "
     ]
    }
   ],
   "source": [
    "for i in range(10): \n",
    "    print(randint(0, 5), end=' ')"
   ]
  },
  {
   "cell_type": "code",
   "execution_count": 100,
   "metadata": {},
   "outputs": [
    {
     "name": "stdout",
     "output_type": "stream",
     "text": [
      "[[1], [2], [3], [4], [5], [6], [7], [8], [9], [10], [5, 7], [2, 9], [8, 10], [3, 6], [8, 10, 3, 6], [4, 2, 9], [1, 8, 10, 3, 6], [4, 2, 9, 1, 8, 10, 3, 6]]\n",
      "[(11, 18)]\n",
      "[5, 7]\n",
      "[4, 2, 9, 1, 8, 10, 3, 6]\n"
     ]
    }
   ],
   "source": [
    "\n",
    "class Karger:\n",
    "\n",
    "    def __init__(self, graph):\n",
    "        self.graph = graph\n",
    "\n",
    "\n",
    "    def run(self):\n",
    "        nodes = [[i + 1] for i in range(len(self.graph))]\n",
    "        super_nodes = [[i + 1] for i in range(len(graph))]\n",
    "        key_node = len(nodes) \n",
    "\n",
    "        E = []\n",
    "        for i in range(len(self.graph)):\n",
    "            for j in range(i + 1, len(self.graph)):\n",
    "                if self.graph.adjacency_matrix[i][j] == 1:\n",
    "                    E.append((i + 1, j + 1))\n",
    "\n",
    "        E_ = E.copy()\n",
    "        while len(nodes) > 2:\n",
    "\n",
    "            random_edge = E_[randint(0, len(E_) - 1)]\n",
    "            key_node += 1\n",
    "\n",
    "            nodes.append([key_node])\n",
    "            nodes.remove([random_edge[0]])\n",
    "            nodes.remove([random_edge[1]])\n",
    "            \n",
    "            list_aux = super_nodes[random_edge[0] - 1].copy()\n",
    "            list_aux.extend(super_nodes[random_edge[1] - 1])\n",
    "            super_nodes.append(list_aux)\n",
    "\n",
    "\n",
    "            E_ = [edge for edge in E_ if edge != random_edge]\n",
    "\n",
    "            for i, edge in enumerate(E_):\n",
    "                if edge[0] == random_edge[0] or edge[0] == random_edge[1]:\n",
    "                    if key_node > edge[1]:\n",
    "                        E_[i] = (edge[1], key_node)\n",
    "                    else:\n",
    "                        E_[i] = ((key_node, edge[1]))\n",
    "\n",
    "                elif edge[1] == random_edge[0] or edge[1] == random_edge[1]:\n",
    "                    if key_node < edge[0]:\n",
    "                        E_[i] = (key_node, edge[0])\n",
    "                    else:\n",
    "                        E_[i] = (edge[0], key_node)\n",
    "            \n",
    "        print(super_nodes)\n",
    "        print(E_)\n",
    "        group_1 = super_nodes[E_[0][0] - 1] \n",
    "        group_2 = super_nodes[E_[0][1] - 1]\n",
    "        print(group_1)\n",
    "        print(group_2)\n",
    "        \n",
    "\n",
    "        \n",
    "\n",
    "karger = Karger(graph)\n",
    "karger.run()"
   ]
  },
  {
   "cell_type": "code",
   "execution_count": null,
   "metadata": {},
   "outputs": [],
   "source": []
  }
 ],
 "metadata": {
  "kernelspec": {
   "display_name": "base",
   "language": "python",
   "name": "python3"
  },
  "language_info": {
   "codemirror_mode": {
    "name": "ipython",
    "version": 3
   },
   "file_extension": ".py",
   "mimetype": "text/x-python",
   "name": "python",
   "nbconvert_exporter": "python",
   "pygments_lexer": "ipython3",
   "version": "3.9.13"
  },
  "orig_nbformat": 4
 },
 "nbformat": 4,
 "nbformat_minor": 2
}
